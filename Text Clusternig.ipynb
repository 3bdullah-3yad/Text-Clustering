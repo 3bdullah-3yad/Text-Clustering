{
 "cells": [
  {
   "cell_type": "markdown",
   "id": "56333e36",
   "metadata": {},
   "source": [
    "# <span style=\"color:red\">@@@@@@@@@@@@@Ayad@@@@@@@@@@@@@</span>"
   ]
  },
  {
   "cell_type": "markdown",
   "id": "62c49305",
   "metadata": {},
   "source": [
    "# <span style=\"color:chocolate\">=== 1- Data ===</span>"
   ]
  },
  {
   "cell_type": "code",
   "execution_count": 1,
   "id": "27bd8dec",
   "metadata": {},
   "outputs": [],
   "source": [
    "from sklearn.datasets import load_files\n",
    "\n",
    "data = load_files( r'D:\\Projects\\NLP\\Text Clustering\\bbc', \n",
    "                   encoding=\"utf-8\", decode_error=\"replace\", random_state = 33)"
   ]
  },
  {
   "cell_type": "code",
   "execution_count": 2,
   "id": "4f322f06",
   "metadata": {},
   "outputs": [],
   "source": [
    "import pandas as pd\n",
    "\n",
    "df = pd.DataFrame(list(zip(data['data'], data['target'])), columns=['text', 'label'])"
   ]
  },
  {
   "cell_type": "code",
   "execution_count": 3,
   "id": "68e99a6c",
   "metadata": {},
   "outputs": [
    {
     "data": {
      "text/html": [
       "<div>\n",
       "<style scoped>\n",
       "    .dataframe tbody tr th:only-of-type {\n",
       "        vertical-align: middle;\n",
       "    }\n",
       "\n",
       "    .dataframe tbody tr th {\n",
       "        vertical-align: top;\n",
       "    }\n",
       "\n",
       "    .dataframe thead th {\n",
       "        text-align: right;\n",
       "    }\n",
       "</style>\n",
       "<table border=\"1\" class=\"dataframe\">\n",
       "  <thead>\n",
       "    <tr style=\"text-align: right;\">\n",
       "      <th></th>\n",
       "      <th>text</th>\n",
       "      <th>label</th>\n",
       "    </tr>\n",
       "  </thead>\n",
       "  <tbody>\n",
       "    <tr>\n",
       "      <th>0</th>\n",
       "      <td>Yukos owner sues Russia for $28bn\\n\\nThe major...</td>\n",
       "      <td>0</td>\n",
       "    </tr>\n",
       "    <tr>\n",
       "      <th>1</th>\n",
       "      <td>Dallaglio his own man to the end\\n\\nControvers...</td>\n",
       "      <td>3</td>\n",
       "    </tr>\n",
       "    <tr>\n",
       "      <th>2</th>\n",
       "      <td>US in EU tariff chaos trade row\\n\\nThe US has ...</td>\n",
       "      <td>0</td>\n",
       "    </tr>\n",
       "    <tr>\n",
       "      <th>3</th>\n",
       "      <td>Housewives lift Channel 4 ratings\\n\\nThe debut...</td>\n",
       "      <td>1</td>\n",
       "    </tr>\n",
       "    <tr>\n",
       "      <th>4</th>\n",
       "      <td>Leeds v Saracens (Fri)\\n\\nHeadingley\\n\\nFriday...</td>\n",
       "      <td>3</td>\n",
       "    </tr>\n",
       "    <tr>\n",
       "      <th>5</th>\n",
       "      <td>Britain boosted by Holmes double\\n\\nAthletics ...</td>\n",
       "      <td>3</td>\n",
       "    </tr>\n",
       "    <tr>\n",
       "      <th>6</th>\n",
       "      <td>Microsoft makes anti-piracy move\\n\\nMicrosoft ...</td>\n",
       "      <td>4</td>\n",
       "    </tr>\n",
       "  </tbody>\n",
       "</table>\n",
       "</div>"
      ],
      "text/plain": [
       "                                                text  label\n",
       "0  Yukos owner sues Russia for $28bn\\n\\nThe major...      0\n",
       "1  Dallaglio his own man to the end\\n\\nControvers...      3\n",
       "2  US in EU tariff chaos trade row\\n\\nThe US has ...      0\n",
       "3  Housewives lift Channel 4 ratings\\n\\nThe debut...      1\n",
       "4  Leeds v Saracens (Fri)\\n\\nHeadingley\\n\\nFriday...      3\n",
       "5  Britain boosted by Holmes double\\n\\nAthletics ...      3\n",
       "6  Microsoft makes anti-piracy move\\n\\nMicrosoft ...      4"
      ]
     },
     "execution_count": 3,
     "metadata": {},
     "output_type": "execute_result"
    }
   ],
   "source": [
    "df.head(7)"
   ]
  },
  {
   "cell_type": "code",
   "execution_count": 4,
   "id": "4f9d60ef",
   "metadata": {},
   "outputs": [
    {
     "data": {
      "text/plain": [
       "3    511\n",
       "0    510\n",
       "2    417\n",
       "4    401\n",
       "1    386\n",
       "Name: label, dtype: int64"
      ]
     },
     "execution_count": 4,
     "metadata": {},
     "output_type": "execute_result"
    }
   ],
   "source": [
    "df.label.value_counts()"
   ]
  },
  {
   "cell_type": "code",
   "execution_count": 5,
   "id": "eb1a9842",
   "metadata": {},
   "outputs": [
    {
     "name": "stderr",
     "output_type": "stream",
     "text": [
      "C:\\Users\\__Ayad__\\anaconda3\\lib\\site-packages\\seaborn\\_decorators.py:36: FutureWarning: Pass the following variable as a keyword arg: x. From version 0.12, the only valid positional argument will be `data`, and passing other arguments without an explicit keyword will result in an error or misinterpretation.\n",
      "  warnings.warn(\n"
     ]
    },
    {
     "data": {
      "text/plain": [
       "<AxesSubplot:xlabel='label', ylabel='count'>"
      ]
     },
     "execution_count": 5,
     "metadata": {},
     "output_type": "execute_result"
    },
    {
     "data": {
      "image/png": "[encoded data removed]",
      "text/plain": [
       "<Figure size 432x288 with 1 Axes>"
      ]
     },
     "metadata": {
      "needs_background": "light"
     },
     "output_type": "display_data"
    }
   ],
   "source": [
    "import seaborn as sns\n",
    "\n",
    "sns.countplot(df.label)"
   ]
  },
  {
   "cell_type": "markdown",
   "id": "232973fc",
   "metadata": {},
   "source": [
    "# <span style=\"color:chocolate\">=== 2- Feature Extraction ===</span>"
   ]
  },
  {
   "cell_type": "markdown",
   "id": "b313241f",
   "metadata": {},
   "source": [
    "##### There are two solutions to extract the features using TF_IDF strategy from the corpora:\n",
    "#####    1- Transform the BOWs (count vectors) to TF_IDF matrix\n",
    "#####    2- Build TF_IDF matrix directly"
   ]
  },
  {
   "cell_type": "markdown",
   "id": "679be1d5",
   "metadata": {},
   "source": [
    "### <span style=\"color:green\">1- Transform the BOWs (count vectors) to TF_IDF matrix</span>"
   ]
  },
  {
   "cell_type": "code",
   "execution_count": 6,
   "id": "c6ae660c",
   "metadata": {},
   "outputs": [],
   "source": [
    "from sklearn.feature_extraction.text import CountVectorizer\n",
    "\n",
    "Count_Vectorizer = CountVectorizer(stop_words=\"english\")"
   ]
  },
  {
   "cell_type": "code",
   "execution_count": 7,
   "id": "0164fe89",
   "metadata": {},
   "outputs": [],
   "source": [
    "Count_Vectorizer.fit(df.text.values)\n",
    "\n",
    "document_term = Count_Vectorizer.transform(df.text.values)"
   ]
  },
  {
   "cell_type": "code",
   "execution_count": 8,
   "id": "cbeec34e",
   "metadata": {},
   "outputs": [],
   "source": [
    "from sklearn.feature_extraction.text import TfidfTransformer\n",
    "\n",
    "tf_idf = TfidfTransformer()"
   ]
  },
  {
   "cell_type": "code",
   "execution_count": 9,
   "id": "3acdad4b",
   "metadata": {},
   "outputs": [],
   "source": [
    "tf_idf.fit(document_term)\n",
    "\n",
    "TF_IDF_matrix = tf_idf.transform(document_term)"
   ]
  },
  {
   "cell_type": "code",
   "execution_count": 10,
   "id": "2fefea74",
   "metadata": {},
   "outputs": [
    {
     "data": {
      "text/plain": [
       "matrix([[0., 0., 0., ..., 0., 0., 0.],\n",
       "        [0., 0., 0., ..., 0., 0., 0.],\n",
       "        [0., 0., 0., ..., 0., 0., 0.],\n",
       "        ...,\n",
       "        [0., 0., 0., ..., 0., 0., 0.],\n",
       "        [0., 0., 0., ..., 0., 0., 0.],\n",
       "        [0., 0., 0., ..., 0., 0., 0.]])"
      ]
     },
     "execution_count": 10,
     "metadata": {},
     "output_type": "execute_result"
    }
   ],
   "source": [
    "TF_IDF_matrix.todense()"
   ]
  },
  {
   "cell_type": "code",
   "execution_count": 11,
   "id": "b0fe45c3",
   "metadata": {},
   "outputs": [
    {
     "data": {
      "text/html": [
       "<div>\n",
       "<style scoped>\n",
       "    .dataframe tbody tr th:only-of-type {\n",
       "        vertical-align: middle;\n",
       "    }\n",
       "\n",
       "    .dataframe tbody tr th {\n",
       "        vertical-align: top;\n",
       "    }\n",
       "\n",
       "    .dataframe thead th {\n",
       "        text-align: right;\n",
       "    }\n",
       "</style>\n",
       "<table border=\"1\" class=\"dataframe\">\n",
       "  <thead>\n",
       "    <tr style=\"text-align: right;\">\n",
       "      <th></th>\n",
       "      <th>00</th>\n",
       "      <th>000</th>\n",
       "      <th>0001</th>\n",
       "      <th>000bn</th>\n",
       "      <th>000m</th>\n",
       "      <th>000s</th>\n",
       "      <th>000th</th>\n",
       "      <th>001</th>\n",
       "      <th>001and</th>\n",
       "      <th>001st</th>\n",
       "      <th>...</th>\n",
       "      <th>zooms</th>\n",
       "      <th>zooropa</th>\n",
       "      <th>zornotza</th>\n",
       "      <th>zorro</th>\n",
       "      <th>zubair</th>\n",
       "      <th>zuluaga</th>\n",
       "      <th>zurich</th>\n",
       "      <th>zutons</th>\n",
       "      <th>zvonareva</th>\n",
       "      <th>zvyagintsev</th>\n",
       "    </tr>\n",
       "  </thead>\n",
       "  <tbody>\n",
       "    <tr>\n",
       "      <th>0</th>\n",
       "      <td>0.0</td>\n",
       "      <td>0.00000</td>\n",
       "      <td>0.0</td>\n",
       "      <td>0.0</td>\n",
       "      <td>0.0</td>\n",
       "      <td>0.0</td>\n",
       "      <td>0.0</td>\n",
       "      <td>0.0</td>\n",
       "      <td>0.0</td>\n",
       "      <td>0.0</td>\n",
       "      <td>...</td>\n",
       "      <td>0.0</td>\n",
       "      <td>0.0</td>\n",
       "      <td>0.0</td>\n",
       "      <td>0.0</td>\n",
       "      <td>0.0</td>\n",
       "      <td>0.0</td>\n",
       "      <td>0.0</td>\n",
       "      <td>0.0</td>\n",
       "      <td>0.0</td>\n",
       "      <td>0.0</td>\n",
       "    </tr>\n",
       "    <tr>\n",
       "      <th>1</th>\n",
       "      <td>0.0</td>\n",
       "      <td>0.00000</td>\n",
       "      <td>0.0</td>\n",
       "      <td>0.0</td>\n",
       "      <td>0.0</td>\n",
       "      <td>0.0</td>\n",
       "      <td>0.0</td>\n",
       "      <td>0.0</td>\n",
       "      <td>0.0</td>\n",
       "      <td>0.0</td>\n",
       "      <td>...</td>\n",
       "      <td>0.0</td>\n",
       "      <td>0.0</td>\n",
       "      <td>0.0</td>\n",
       "      <td>0.0</td>\n",
       "      <td>0.0</td>\n",
       "      <td>0.0</td>\n",
       "      <td>0.0</td>\n",
       "      <td>0.0</td>\n",
       "      <td>0.0</td>\n",
       "      <td>0.0</td>\n",
       "    </tr>\n",
       "    <tr>\n",
       "      <th>2</th>\n",
       "      <td>0.0</td>\n",
       "      <td>0.00000</td>\n",
       "      <td>0.0</td>\n",
       "      <td>0.0</td>\n",
       "      <td>0.0</td>\n",
       "      <td>0.0</td>\n",
       "      <td>0.0</td>\n",
       "      <td>0.0</td>\n",
       "      <td>0.0</td>\n",
       "      <td>0.0</td>\n",
       "      <td>...</td>\n",
       "      <td>0.0</td>\n",
       "      <td>0.0</td>\n",
       "      <td>0.0</td>\n",
       "      <td>0.0</td>\n",
       "      <td>0.0</td>\n",
       "      <td>0.0</td>\n",
       "      <td>0.0</td>\n",
       "      <td>0.0</td>\n",
       "      <td>0.0</td>\n",
       "      <td>0.0</td>\n",
       "    </tr>\n",
       "    <tr>\n",
       "      <th>3</th>\n",
       "      <td>0.0</td>\n",
       "      <td>0.00000</td>\n",
       "      <td>0.0</td>\n",
       "      <td>0.0</td>\n",
       "      <td>0.0</td>\n",
       "      <td>0.0</td>\n",
       "      <td>0.0</td>\n",
       "      <td>0.0</td>\n",
       "      <td>0.0</td>\n",
       "      <td>0.0</td>\n",
       "      <td>...</td>\n",
       "      <td>0.0</td>\n",
       "      <td>0.0</td>\n",
       "      <td>0.0</td>\n",
       "      <td>0.0</td>\n",
       "      <td>0.0</td>\n",
       "      <td>0.0</td>\n",
       "      <td>0.0</td>\n",
       "      <td>0.0</td>\n",
       "      <td>0.0</td>\n",
       "      <td>0.0</td>\n",
       "    </tr>\n",
       "    <tr>\n",
       "      <th>4</th>\n",
       "      <td>0.0</td>\n",
       "      <td>0.00000</td>\n",
       "      <td>0.0</td>\n",
       "      <td>0.0</td>\n",
       "      <td>0.0</td>\n",
       "      <td>0.0</td>\n",
       "      <td>0.0</td>\n",
       "      <td>0.0</td>\n",
       "      <td>0.0</td>\n",
       "      <td>0.0</td>\n",
       "      <td>...</td>\n",
       "      <td>0.0</td>\n",
       "      <td>0.0</td>\n",
       "      <td>0.0</td>\n",
       "      <td>0.0</td>\n",
       "      <td>0.0</td>\n",
       "      <td>0.0</td>\n",
       "      <td>0.0</td>\n",
       "      <td>0.0</td>\n",
       "      <td>0.0</td>\n",
       "      <td>0.0</td>\n",
       "    </tr>\n",
       "    <tr>\n",
       "      <th>...</th>\n",
       "      <td>...</td>\n",
       "      <td>...</td>\n",
       "      <td>...</td>\n",
       "      <td>...</td>\n",
       "      <td>...</td>\n",
       "      <td>...</td>\n",
       "      <td>...</td>\n",
       "      <td>...</td>\n",
       "      <td>...</td>\n",
       "      <td>...</td>\n",
       "      <td>...</td>\n",
       "      <td>...</td>\n",
       "      <td>...</td>\n",
       "      <td>...</td>\n",
       "      <td>...</td>\n",
       "      <td>...</td>\n",
       "      <td>...</td>\n",
       "      <td>...</td>\n",
       "      <td>...</td>\n",
       "      <td>...</td>\n",
       "      <td>...</td>\n",
       "    </tr>\n",
       "    <tr>\n",
       "      <th>2220</th>\n",
       "      <td>0.0</td>\n",
       "      <td>0.00000</td>\n",
       "      <td>0.0</td>\n",
       "      <td>0.0</td>\n",
       "      <td>0.0</td>\n",
       "      <td>0.0</td>\n",
       "      <td>0.0</td>\n",
       "      <td>0.0</td>\n",
       "      <td>0.0</td>\n",
       "      <td>0.0</td>\n",
       "      <td>...</td>\n",
       "      <td>0.0</td>\n",
       "      <td>0.0</td>\n",
       "      <td>0.0</td>\n",
       "      <td>0.0</td>\n",
       "      <td>0.0</td>\n",
       "      <td>0.0</td>\n",
       "      <td>0.0</td>\n",
       "      <td>0.0</td>\n",
       "      <td>0.0</td>\n",
       "      <td>0.0</td>\n",
       "    </tr>\n",
       "    <tr>\n",
       "      <th>2221</th>\n",
       "      <td>0.0</td>\n",
       "      <td>0.02243</td>\n",
       "      <td>0.0</td>\n",
       "      <td>0.0</td>\n",
       "      <td>0.0</td>\n",
       "      <td>0.0</td>\n",
       "      <td>0.0</td>\n",
       "      <td>0.0</td>\n",
       "      <td>0.0</td>\n",
       "      <td>0.0</td>\n",
       "      <td>...</td>\n",
       "      <td>0.0</td>\n",
       "      <td>0.0</td>\n",
       "      <td>0.0</td>\n",
       "      <td>0.0</td>\n",
       "      <td>0.0</td>\n",
       "      <td>0.0</td>\n",
       "      <td>0.0</td>\n",
       "      <td>0.0</td>\n",
       "      <td>0.0</td>\n",
       "      <td>0.0</td>\n",
       "    </tr>\n",
       "    <tr>\n",
       "      <th>2222</th>\n",
       "      <td>0.0</td>\n",
       "      <td>0.00000</td>\n",
       "      <td>0.0</td>\n",
       "      <td>0.0</td>\n",
       "      <td>0.0</td>\n",
       "      <td>0.0</td>\n",
       "      <td>0.0</td>\n",
       "      <td>0.0</td>\n",
       "      <td>0.0</td>\n",
       "      <td>0.0</td>\n",
       "      <td>...</td>\n",
       "      <td>0.0</td>\n",
       "      <td>0.0</td>\n",
       "      <td>0.0</td>\n",
       "      <td>0.0</td>\n",
       "      <td>0.0</td>\n",
       "      <td>0.0</td>\n",
       "      <td>0.0</td>\n",
       "      <td>0.0</td>\n",
       "      <td>0.0</td>\n",
       "      <td>0.0</td>\n",
       "    </tr>\n",
       "    <tr>\n",
       "      <th>2223</th>\n",
       "      <td>0.0</td>\n",
       "      <td>0.00000</td>\n",
       "      <td>0.0</td>\n",
       "      <td>0.0</td>\n",
       "      <td>0.0</td>\n",
       "      <td>0.0</td>\n",
       "      <td>0.0</td>\n",
       "      <td>0.0</td>\n",
       "      <td>0.0</td>\n",
       "      <td>0.0</td>\n",
       "      <td>...</td>\n",
       "      <td>0.0</td>\n",
       "      <td>0.0</td>\n",
       "      <td>0.0</td>\n",
       "      <td>0.0</td>\n",
       "      <td>0.0</td>\n",
       "      <td>0.0</td>\n",
       "      <td>0.0</td>\n",
       "      <td>0.0</td>\n",
       "      <td>0.0</td>\n",
       "      <td>0.0</td>\n",
       "    </tr>\n",
       "    <tr>\n",
       "      <th>2224</th>\n",
       "      <td>0.0</td>\n",
       "      <td>0.00000</td>\n",
       "      <td>0.0</td>\n",
       "      <td>0.0</td>\n",
       "      <td>0.0</td>\n",
       "      <td>0.0</td>\n",
       "      <td>0.0</td>\n",
       "      <td>0.0</td>\n",
       "      <td>0.0</td>\n",
       "      <td>0.0</td>\n",
       "      <td>...</td>\n",
       "      <td>0.0</td>\n",
       "      <td>0.0</td>\n",
       "      <td>0.0</td>\n",
       "      <td>0.0</td>\n",
       "      <td>0.0</td>\n",
       "      <td>0.0</td>\n",
       "      <td>0.0</td>\n",
       "      <td>0.0</td>\n",
       "      <td>0.0</td>\n",
       "      <td>0.0</td>\n",
       "    </tr>\n",
       "  </tbody>\n",
       "</table>\n",
       "<p>2225 rows × 29126 columns</p>\n",
       "</div>"
      ],
      "text/plain": [
       "       00      000  0001  000bn  000m  000s  000th  001  001and  001st  ...  \\\n",
       "0     0.0  0.00000   0.0    0.0   0.0   0.0    0.0  0.0     0.0    0.0  ...   \n",
       "1     0.0  0.00000   0.0    0.0   0.0   0.0    0.0  0.0     0.0    0.0  ...   \n",
       "2     0.0  0.00000   0.0    0.0   0.0   0.0    0.0  0.0     0.0    0.0  ...   \n",
       "3     0.0  0.00000   0.0    0.0   0.0   0.0    0.0  0.0     0.0    0.0  ...   \n",
       "4     0.0  0.00000   0.0    0.0   0.0   0.0    0.0  0.0     0.0    0.0  ...   \n",
       "...   ...      ...   ...    ...   ...   ...    ...  ...     ...    ...  ...   \n",
       "2220  0.0  0.00000   0.0    0.0   0.0   0.0    0.0  0.0     0.0    0.0  ...   \n",
       "2221  0.0  0.02243   0.0    0.0   0.0   0.0    0.0  0.0     0.0    0.0  ...   \n",
       "2222  0.0  0.00000   0.0    0.0   0.0   0.0    0.0  0.0     0.0    0.0  ...   \n",
       "2223  0.0  0.00000   0.0    0.0   0.0   0.0    0.0  0.0     0.0    0.0  ...   \n",
       "2224  0.0  0.00000   0.0    0.0   0.0   0.0    0.0  0.0     0.0    0.0  ...   \n",
       "\n",
       "      zooms  zooropa  zornotza  zorro  zubair  zuluaga  zurich  zutons  \\\n",
       "0       0.0      0.0       0.0    0.0     0.0      0.0     0.0     0.0   \n",
       "1       0.0      0.0       0.0    0.0     0.0      0.0     0.0     0.0   \n",
       "2       0.0      0.0       0.0    0.0     0.0      0.0     0.0     0.0   \n",
       "3       0.0      0.0       0.0    0.0     0.0      0.0     0.0     0.0   \n",
       "4       0.0      0.0       0.0    0.0     0.0      0.0     0.0     0.0   \n",
       "...     ...      ...       ...    ...     ...      ...     ...     ...   \n",
       "2220    0.0      0.0       0.0    0.0     0.0      0.0     0.0     0.0   \n",
       "2221    0.0      0.0       0.0    0.0     0.0      0.0     0.0     0.0   \n",
       "2222    0.0      0.0       0.0    0.0     0.0      0.0     0.0     0.0   \n",
       "2223    0.0      0.0       0.0    0.0     0.0      0.0     0.0     0.0   \n",
       "2224    0.0      0.0       0.0    0.0     0.0      0.0     0.0     0.0   \n",
       "\n",
       "      zvonareva  zvyagintsev  \n",
       "0           0.0          0.0  \n",
       "1           0.0          0.0  \n",
       "2           0.0          0.0  \n",
       "3           0.0          0.0  \n",
       "4           0.0          0.0  \n",
       "...         ...          ...  \n",
       "2220        0.0          0.0  \n",
       "2221        0.0          0.0  \n",
       "2222        0.0          0.0  \n",
       "2223        0.0          0.0  \n",
       "2224        0.0          0.0  \n",
       "\n",
       "[2225 rows x 29126 columns]"
      ]
     },
     "execution_count": 11,
     "metadata": {},
     "output_type": "execute_result"
    }
   ],
   "source": [
    "TF_IDF_matrix = pd.DataFrame(TF_IDF_matrix.todense(),\n",
    "                                    columns = Count_Vectorizer.get_feature_names())\n",
    "TF_IDF_matrix"
   ]
  },
  {
   "cell_type": "markdown",
   "id": "7a791a11",
   "metadata": {},
   "source": [
    "### <span style=\"color:green\">2- Build TF_IDF matrix directly</span>"
   ]
  },
  {
   "cell_type": "code",
   "execution_count": 12,
   "id": "210fb40f",
   "metadata": {},
   "outputs": [],
   "source": [
    "from sklearn.feature_extraction.text import TfidfVectorizer\n",
    "\n",
    "vectorizer = TfidfVectorizer(stop_words=\"english\")"
   ]
  },
  {
   "cell_type": "code",
   "execution_count": 13,
   "id": "4f07e01c",
   "metadata": {},
   "outputs": [],
   "source": [
    "vectorizer.fit(df.text.values)\n",
    "\n",
    "tfidf_matrix = vectorizer.transform(df.text.values)"
   ]
  },
  {
   "cell_type": "markdown",
   "id": "3bafebf1",
   "metadata": {},
   "source": [
    "# <span style=\"color:chocolate\">=== 3- Clustering ===</span>"
   ]
  },
  {
   "cell_type": "code",
   "execution_count": 14,
   "id": "a3460fbc",
   "metadata": {},
   "outputs": [],
   "source": [
    "from sklearn.cluster import MiniBatchKMeans\n",
    "\n",
    "MBKmeans = MiniBatchKMeans(n_clusters = 5, random_state = 33)"
   ]
  },
  {
   "cell_type": "code",
   "execution_count": 15,
   "id": "e772e17c",
   "metadata": {},
   "outputs": [
    {
     "data": {
      "text/plain": [
       "array([4, 1, 2, ..., 2, 1, 1])"
      ]
     },
     "execution_count": 15,
     "metadata": {},
     "output_type": "execute_result"
    }
   ],
   "source": [
    "MBKmeans.fit(tfidf_matrix)\n",
    "\n",
    "X = MBKmeans.predict(tfidf_matrix)\n",
    "X"
   ]
  },
  {
   "cell_type": "code",
   "execution_count": 16,
   "id": "951f967c",
   "metadata": {},
   "outputs": [
    {
     "data": {
      "text/plain": [
       "array([4, 1, 2, ..., 2, 1, 1])"
      ]
     },
     "execution_count": 16,
     "metadata": {},
     "output_type": "execute_result"
    }
   ],
   "source": [
    "MBKmeans.labels_"
   ]
  },
  {
   "cell_type": "code",
   "execution_count": 17,
   "id": "a005de47",
   "metadata": {},
   "outputs": [
    {
     "data": {
      "text/plain": [
       "array([[1.35475463e-04, 9.93256054e-03, 0.00000000e+00, ...,\n",
       "        0.00000000e+00, 0.00000000e+00, 0.00000000e+00],\n",
       "       [7.80873366e-05, 4.55876199e-03, 0.00000000e+00, ...,\n",
       "        0.00000000e+00, 3.05323684e-04, 1.88748641e-04],\n",
       "       [2.03836633e-04, 1.32080479e-02, 0.00000000e+00, ...,\n",
       "        0.00000000e+00, 0.00000000e+00, 0.00000000e+00],\n",
       "       [4.42296842e-05, 9.22644872e-03, 7.01092545e-05, ...,\n",
       "        0.00000000e+00, 0.00000000e+00, 0.00000000e+00],\n",
       "       [0.00000000e+00, 1.35306026e-02, 0.00000000e+00, ...,\n",
       "        0.00000000e+00, 0.00000000e+00, 0.00000000e+00]])"
      ]
     },
     "execution_count": 17,
     "metadata": {},
     "output_type": "execute_result"
    }
   ],
   "source": [
    "MBKmeans.cluster_centers_"
   ]
  },
  {
   "cell_type": "code",
   "execution_count": 18,
   "id": "aaba5f8f",
   "metadata": {},
   "outputs": [
    {
     "data": {
      "text/plain": [
       "2132.7325030407524"
      ]
     },
     "execution_count": 18,
     "metadata": {},
     "output_type": "execute_result"
    }
   ],
   "source": [
    "MBKmeans.inertia_"
   ]
  },
  {
   "cell_type": "markdown",
   "id": "f5a315d4",
   "metadata": {},
   "source": [
    "# <span style=\"color:chocolate\">=== 4- PCA ===</span>"
   ]
  },
  {
   "cell_type": "code",
   "execution_count": 19,
   "id": "76854a8f",
   "metadata": {},
   "outputs": [],
   "source": [
    "from sklearn.decomposition import PCA\n",
    "\n",
    "pca = PCA(n_components = 2, random_state = 33)"
   ]
  },
  {
   "cell_type": "code",
   "execution_count": 20,
   "id": "d6bfcede",
   "metadata": {},
   "outputs": [],
   "source": [
    "reduced_tfidf_matrix = pca.fit_transform(tfidf_matrix.todense())"
   ]
  },
  {
   "cell_type": "code",
   "execution_count": 21,
   "id": "6568e392",
   "metadata": {},
   "outputs": [
    {
     "data": {
      "text/plain": [
       "array([[-0.03061269,  0.11259232],\n",
       "       [-0.06418224, -0.07364352],\n",
       "       [-0.00818758,  0.06804513],\n",
       "       [ 0.14558919, -0.02607401],\n",
       "       [ 0.13769417,  0.02378474]])"
      ]
     },
     "execution_count": 21,
     "metadata": {},
     "output_type": "execute_result"
    }
   ],
   "source": [
    "reduced_cluster_centers = pca.transform(MBKmeans.cluster_centers_)\n",
    "reduced_cluster_centers"
   ]
  },
  {
   "cell_type": "code",
   "execution_count": 22,
   "id": "34fa424a",
   "metadata": {},
   "outputs": [
    {
     "data": {
      "text/plain": [
       "<matplotlib.collections.PathCollection at 0x17368fce7f0>"
      ]
     },
     "execution_count": 22,
     "metadata": {},
     "output_type": "execute_result"
    },
    {
     "data": {
      "image/png": "[encoded data removed]",
      "text/plain": [
       "<Figure size 432x288 with 1 Axes>"
      ]
     },
     "metadata": {},
     "output_type": "display_data"
    }
   ],
   "source": [
    "import matplotlib.pyplot as plt\n",
    "\n",
    "plt.style.use('dark_background')\n",
    "\n",
    "plt.scatter(reduced_tfidf_matrix[:,0], reduced_tfidf_matrix[:,1], c=MBKmeans.predict(tfidf_matrix))\n",
    "plt.scatter(reduced_cluster_centers[:, 0], reduced_cluster_centers[:,1], marker='o', s=150, c='y')"
   ]
  },
  {
   "cell_type": "code",
   "execution_count": 23,
   "id": "75a89c8a",
   "metadata": {},
   "outputs": [
    {
     "data": {
      "text/plain": [
       "0.6460335957689028"
      ]
     },
     "execution_count": 23,
     "metadata": {},
     "output_type": "execute_result"
    }
   ],
   "source": [
    "from sklearn.metrics import homogeneity_score\n",
    "\n",
    "homogeneity_score(df.label, MBKmeans.predict(tfidf_matrix))"
   ]
  },
  {
   "cell_type": "markdown",
   "id": "edf62124",
   "metadata": {},
   "source": [
    "# <span style=\"color:red\">@@@@@@@@@@@@@Ayad@@@@@@@@@@@@@</span>"
   ]
  }
 ],
 "metadata": {
  "kernelspec": {
   "display_name": "Python 3 (ipykernel)",
   "language": "python",
   "name": "python3"
  },
  "language_info": {
   "codemirror_mode": {
    "name": "ipython",
    "version": 3
   },
   "file_extension": ".py",
   "mimetype": "text/x-python",
   "name": "python",
   "nbconvert_exporter": "python",
   "pygments_lexer": "ipython3",
   "version": "3.9.7"
  }
 },
 "nbformat": 4,
 "nbformat_minor": 5
}
